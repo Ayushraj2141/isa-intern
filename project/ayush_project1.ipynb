{
 "cells": [
  {
   "cell_type": "markdown",
   "id": "c287cf6f",
   "metadata": {},
   "source": [
    "### Step 1: Importing Necessary Libraries\n",
    "We begin by importing Python libraries commonly used in data analysis and visualization:\n",
    "- `numpy` for numerical operations\n",
    "- `matplotlib.pyplot` for plotting graphs\n",
    "- `pandas` (commented out here) for handling CSV data, which is especially useful for tabular data such as redshift catalogs\n",
    "\n",
    "> Tip: If you haven’t used `pandas` before, it’s worth learning as it offers powerful tools to manipulate and analyze structured datasets.\n"
   ]
  },
  {
   "cell_type": "code",
   "execution_count": null,
   "id": "5c90dc31",
   "metadata": {},
   "outputs": [],
   "source": [
    "#  We have installed all the important libraries required for our project using pip\n",
    "pip install numpy pandas matplotlib astropy\n"
   ]
  },
  {
   "cell_type": "markdown",
   "id": "f47dc893",
   "metadata": {},
   "source": [
    "Importing all the important libraries "
   ]
  },
  {
   "cell_type": "code",
   "execution_count": 20,
   "id": "24242ccf",
   "metadata": {},
   "outputs": [],
   "source": [
    "import numpy as np\n",
    "import pandas as pd\n",
    "import matplotlib.pyplot as plt\n",
    "from astropy.constants import G, c\n",
    "from astropy.cosmology import Planck18 as cosmo\n",
    "import astropy.units as u\n"
   ]
  },
  {
   "cell_type": "markdown",
   "id": "135c9c31",
   "metadata": {},
   "source": [
    "\n",
    "Before we begin calculations, we define key physical constants used throughout:\n",
    "\n",
    "- $ H_0 $: Hubble constant, describes the expansion rate of the Universe.\n",
    "- $c$ : Speed of light.\n",
    "-  $G$: Gravitational constant.\n",
    "- $q_0$ : Deceleration parameter, used for approximate co-moving distance calculations.\n",
    "\n",
    "We will use **`astropy.constants`** to ensure unit consistency and precision."
   ]
  },
  {
   "cell_type": "markdown",
   "id": "d1f50d49",
   "metadata": {},
   "source": [
    "# Constants:\n",
    "\n",
    "H_0 =  # Hubble constant in SI\n",
    "c =  # Speed of light in m/s\n",
    "G =  # Gravitational constant in pc kg^-1 (m/s)^2\n",
    "q0=-0.534  # Deceleration parameter (assumed from Planck fit KEEP it as it is)"
   ]
  },
  {
   "cell_type": "code",
   "execution_count": 21,
   "id": "66bcb1ec",
   "metadata": {},
   "outputs": [
    {
     "name": "stdout",
     "output_type": "stream",
     "text": [
      "Hubble Constant: 67.4 km / (Mpc s)\n",
      "Speed of Light: 299792458.0 m/s\n",
      "Gravitational Constant: 6.6743e-11 m^3/(kg s^2)\n"
     ]
    }
   ],
   "source": [
    "# Define constants in SI units\n",
    "H_0 = 67.4 * (u.km / u.s / u.Mpc)  # Planck18 Hubble constant\n",
    "c_si = c.to('m/s').value           # Speed of light in m/s\n",
    "G_si = G.to('m3 / (kg s2)').value  # Gravitational constant in SI\n",
    "q0 = -0.534                        # Deceleration parameter (keep as is)\n",
    "\n",
    "print(f\"Hubble Constant: {H_0}\")\n",
    "print(f\"Speed of Light: {c_si} m/s\")\n",
    "print(f\"Gravitational Constant: {G_si} m^3/(kg s^2)\")\n"
   ]
  },
  {
   "cell_type": "markdown",
   "id": "72d26ae0",
   "metadata": {},
   "source": [
    "Read the csv data into the python using the method below"
   ]
  },
  {
   "cell_type": "code",
   "execution_count": null,
   "id": "bbbf6cca",
   "metadata": {},
   "outputs": [
    {
     "data": {
      "text/html": [
       "<div>\n",
       "<style scoped>\n",
       "    .dataframe tbody tr th:only-of-type {\n",
       "        vertical-align: middle;\n",
       "    }\n",
       "\n",
       "    .dataframe tbody tr th {\n",
       "        vertical-align: top;\n",
       "    }\n",
       "\n",
       "    .dataframe thead th {\n",
       "        text-align: right;\n",
       "    }\n",
       "</style>\n",
       "<table border=\"1\" class=\"dataframe\">\n",
       "  <thead>\n",
       "    <tr style=\"text-align: right;\">\n",
       "      <th></th>\n",
       "      <th></th>\n",
       "      <th></th>\n",
       "      <th></th>\n",
       "      <th></th>\n",
       "      <th></th>\n",
       "      <th></th>\n",
       "      <th></th>\n",
       "      <th></th>\n",
       "      <th></th>\n",
       "      <th></th>\n",
       "      <th></th>\n",
       "      <th></th>\n",
       "      <th></th>\n",
       "      <th>#Table1</th>\n",
       "    </tr>\n",
       "  </thead>\n",
       "  <tbody>\n",
       "    <tr>\n",
       "      <th>objid</th>\n",
       "      <th>ra</th>\n",
       "      <th>dec</th>\n",
       "      <th>photoz</th>\n",
       "      <th>photozerr</th>\n",
       "      <th>specz</th>\n",
       "      <th>speczerr</th>\n",
       "      <th>proj_sep</th>\n",
       "      <th>umag</th>\n",
       "      <th>umagerr</th>\n",
       "      <th>gmag</th>\n",
       "      <th>gmagerr</th>\n",
       "      <th>rmag</th>\n",
       "      <th>rmagerr</th>\n",
       "      <td>obj_type</td>\n",
       "    </tr>\n",
       "    <tr>\n",
       "      <th rowspan=\"2\" valign=\"top\">1237671768542478711</th>\n",
       "      <th rowspan=\"2\" valign=\"top\">257.82458</th>\n",
       "      <th rowspan=\"2\" valign=\"top\">64.133257</th>\n",
       "      <th rowspan=\"2\" valign=\"top\">0.079193</th>\n",
       "      <th rowspan=\"2\" valign=\"top\">0.022867</th>\n",
       "      <th>0.08244731</th>\n",
       "      <th>1.657283E-05</th>\n",
       "      <th>8.34773316331893</th>\n",
       "      <th>18.96488</th>\n",
       "      <th>0.04337703</th>\n",
       "      <th>17.49815</th>\n",
       "      <th>0.005671791</th>\n",
       "      <th>16.75003</th>\n",
       "      <th>0.004707855</th>\n",
       "      <td>3</td>\n",
       "    </tr>\n",
       "    <tr>\n",
       "      <th>0.08246633</th>\n",
       "      <th>1.43452E-05</th>\n",
       "      <th>8.34773316331893</th>\n",
       "      <th>18.96488</th>\n",
       "      <th>0.04337703</th>\n",
       "      <th>17.49815</th>\n",
       "      <th>0.005671791</th>\n",
       "      <th>16.75003</th>\n",
       "      <th>0.004707855</th>\n",
       "      <td>3</td>\n",
       "    </tr>\n",
       "    <tr>\n",
       "      <th>1237671768542478713</th>\n",
       "      <th>257.83332</th>\n",
       "      <th>64.126043</th>\n",
       "      <th>0.091507</th>\n",
       "      <th>0.014511</th>\n",
       "      <th>0.08121841</th>\n",
       "      <th>2.131049E-05</th>\n",
       "      <th>8.01125941762232</th>\n",
       "      <th>20.22848</th>\n",
       "      <th>0.07201946</th>\n",
       "      <th>18.38334</th>\n",
       "      <th>0.007762768</th>\n",
       "      <th>17.46793</th>\n",
       "      <th>0.005827651</th>\n",
       "      <td>3</td>\n",
       "    </tr>\n",
       "    <tr>\n",
       "      <th>1237671768542544090</th>\n",
       "      <th>257.85137</th>\n",
       "      <th>64.173247</th>\n",
       "      <th>0.081102</th>\n",
       "      <th>0.009898</th>\n",
       "      <th>0.07956107</th>\n",
       "      <th>2.217769E-05</th>\n",
       "      <th>8.73927598457626</th>\n",
       "      <th>19.21829</th>\n",
       "      <th>0.05013492</th>\n",
       "      <th>17.1897</th>\n",
       "      <th>0.004936492</th>\n",
       "      <th>16.22043</th>\n",
       "      <th>0.003769081</th>\n",
       "      <td>3</td>\n",
       "    </tr>\n",
       "  </tbody>\n",
       "</table>\n",
       "</div>"
      ],
      "text/plain": [
       "                                                                                                                                                                    #Table1\n",
       "objid               ra        dec       photoz   photozerr specz      speczerr     proj_sep         umag     umagerr    gmag     gmagerr     rmag     rmagerr      obj_type\n",
       "1237671768542478711 257.82458 64.133257 0.079193 0.022867  0.08244731 1.657283E-05 8.34773316331893 18.96488 0.04337703 17.49815 0.005671791 16.75003 0.004707855         3\n",
       "                                                           0.08246633 1.43452E-05  8.34773316331893 18.96488 0.04337703 17.49815 0.005671791 16.75003 0.004707855         3\n",
       "1237671768542478713 257.83332 64.126043 0.091507 0.014511  0.08121841 2.131049E-05 8.01125941762232 20.22848 0.07201946 18.38334 0.007762768 17.46793 0.005827651         3\n",
       "1237671768542544090 257.85137 64.173247 0.081102 0.009898  0.07956107 2.217769E-05 8.73927598457626 19.21829 0.05013492 17.1897  0.004936492 16.22043 0.003769081         3"
      ]
     },
     "execution_count": 22,
     "metadata": {},
     "output_type": "execute_result"
    }
   ],
   "source": [
    "df = pd.read_csv(\"Skyserver_SQL7_1_2025 6_19_19 AM.csv\") # Was showing error while changing name dunno why tho \n",
    "df.head()"
   ]
  },
  {
   "cell_type": "markdown",
   "id": "92b5e9bb",
   "metadata": {},
   "source": [
    "### 📊 Calculating the Average Spectroscopic Redshift (`specz`) for Each Object\n",
    "\n",
    "When working with astronomical catalogs, an object (identified by a unique `objid`) might have multiple entries — for example, due to repeated observations. To reduce this to a single row per object, we aggregate the data using the following strategy:\n",
    "\n",
    "```python\n",
    "averaged_df = df.groupby('objid').agg({\n",
    "    'specz': 'mean',        # Take the mean of all spec-z values for that object\n",
    "    'ra': 'first',          # Use the first RA value (assumed constant for the object)\n",
    "    'dec': 'first',         # Use the first Dec value (same reason as above)\n",
    "    'proj_sep': 'first'     # Use the first projected separation value\n",
    "}).reset_index()\n"
   ]
  },
  {
   "cell_type": "code",
   "execution_count": null,
   "id": "81982e1b",
   "metadata": {},
   "outputs": [
    {
     "name": "stdout",
     "output_type": "stream",
     "text": [
      "Index(['#Table1'], dtype='object')\n"
     ]
    }
   ],
   "source": [
    "df.columns = df.columns.str.strip() # used this using chatgpt because it was showing some error stating that objid not found\n",
    "print(df.columns)\n"
   ]
  },
  {
   "cell_type": "code",
   "execution_count": null,
   "id": "a18fd7e7",
   "metadata": {},
   "outputs": [],
   "source": [
    "df = pd.read_csv('Skyserver_SQL7_1_2025 6_19_19 AM.csv', comment='#') # commented the #Table1 part to read the objid coulmn"
   ]
  },
  {
   "cell_type": "code",
   "execution_count": null,
   "id": "b8a1fd9a",
   "metadata": {},
   "outputs": [
    {
     "name": "stdout",
     "output_type": "stream",
     "text": [
      "count    92.000000\n",
      "mean      0.080838\n",
      "std       0.008578\n",
      "min       0.069976\n",
      "25%       0.077224\n",
      "50%       0.080961\n",
      "75%       0.082797\n",
      "max       0.150886\n",
      "Name: specz, dtype: float64\n"
     ]
    }
   ],
   "source": [
    "\n",
    "averaged_df = df.groupby('objid').agg({\n",
    "    'specz': 'mean',\n",
    "    'ra': 'first',\n",
    "    'dec': 'first',\n",
    "    'proj_sep': 'first'\n",
    "}).reset_index()\n",
    "\n",
    "print(averaged_df.describe()['specz'])\n"
   ]
  },
  {
   "cell_type": "markdown",
   "id": "1200576d",
   "metadata": {},
   "source": [
    "To create a cut in the redshift so that a cluster can be identified. We must use some logic. Most astronomers prefer anything beyond 3*sigma away from the mean to be not part of the same group. \n",
    "\n",
    "Find the mean, standard deviation and limits of the redshift from the data"
   ]
  },
  {
   "cell_type": "code",
   "execution_count": null,
   "id": "d8afa0ca",
   "metadata": {},
   "outputs": [
    {
     "name": "stdout",
     "output_type": "stream",
     "text": [
      "Mean specz: 0.08084\n",
      "Std specz: 0.00858\n",
      "Lower limit: 0.05510\n",
      "Upper limit: 0.10657\n"
     ]
    }
   ],
   "source": [
    "# Mean and std\n",
    "mean_specz = averaged_df['specz'].mean()\n",
    "std_specz = averaged_df['specz'].std()\n",
    "\n",
    "lower_limit = mean_specz - 3 * std_specz # would nead to read about them like what is 3 sigma and specz and all\n",
    "upper_limit = mean_specz + 3 * std_specz # why this calculation need to see\n",
    "\n",
    "print(f\"Mean specz: {mean_specz:.5f}\") # .5f is used to terminate the value till 5 floating points only \n",
    "print(f\"Std specz: {std_specz:.5f}\")\n",
    "print(f\"Lower limit: {lower_limit:.5f}\")\n",
    "print(f\"Upper limit: {upper_limit:.5f}\")\n"
   ]
  },
  {
   "cell_type": "markdown",
   "id": "2e72d97d",
   "metadata": {},
   "source": [
    "## You can also use boxplot to visualize the overall values of redshift \n",
    "## But the best plot would be a histogram to see where most of the objects downloaded lie in terms of redshift value\n"
   ]
  },
  {
   "cell_type": "code",
   "execution_count": null,
   "id": "60af231c",
   "metadata": {},
   "outputs": [
    {
     "data": {
      "image/png": "[encoded data removed]",
      "text/plain": [
       "<Figure size 800x500 with 1 Axes>"
      ]
     },
     "metadata": {},
     "output_type": "display_data"
    }
   ],
   "source": [
    "# Plot the dsitribution of redshift as histogram and a boxplot \n",
    "# Histogram -- learnt mathplotlib for this , used some basic styling to make the graph look more readable and beautiful \n",
    "plt.figure(figsize=(8, 5))\n",
    "plt.hist(averaged_df['specz'], bins=50, alpha=0.7, edgecolor='k')\n",
    "plt.axvline(lower_limit, color='red', linestyle='--', label='3-sigma limits')\n",
    "plt.axvline(upper_limit, color='red', linestyle='--')\n",
    "plt.title(\"Redshift Distribution with 3-Sigma Cut\")\n",
    "plt.xlabel(\"Spectroscopic Redshift\")\n",
    "plt.ylabel(\"Number of Objects\")\n",
    "plt.legend()\n",
    "plt.grid()\n",
    "plt.show()"
   ]
  },
  {
   "cell_type": "markdown",
   "id": "d33b0b1b",
   "metadata": {},
   "source": [
    "Filter your data based on the 3-sigma limit of redshift. You should remove all data points which are 3-sigma away from mean of redshift"
   ]
  },
  {
   "cell_type": "code",
   "execution_count": null,
   "id": "1ae4ff06",
   "metadata": {},
   "outputs": [
    {
     "name": "stdout",
     "output_type": "stream",
     "text": [
      "Number of cluster members: 91\n"
     ]
    }
   ],
   "source": [
    "# Filter the cluster members\n",
    "# Filtering the data based on specz values, used 3 sigma deviation from mean as upper limit.\n",
    "filtered_df = averaged_df[\n",
    "    (averaged_df['specz'] >= lower_limit) & (averaged_df['specz'] <= upper_limit)\n",
    "]\n",
    "\n",
    "print(f\"Number of cluster members: {filtered_df.shape[0]}\")\n"
   ]
  },
  {
   "cell_type": "markdown",
   "id": "8b25bc22",
   "metadata": {},
   "source": [
    "----"
   ]
  },
  {
   "cell_type": "markdown",
   "id": "d8f2b325",
   "metadata": {},
   "source": [
    "### Q-1 Identification of cluster member galaxies"
   ]
  },
  {
   "cell_type": "markdown",
   "id": "31171437",
   "metadata": {},
   "source": [
    "First thing I did was check all the redshift values of all galaxies I got from the data. Then I find out the average redshift which came around 0.08084 something and then I also find the standard deviation which was near about 0.00858. Now to know which galaxies are really part of same cluster I have to remove those ones which are too far in redshift. So I did what is usually done, took 3 times the sigma and set lower and upper limit. So any galaxy beyond 3 sigma is out, only keep inside ones. After doing this there was 91 galaxies left which I will call members of cluster. So these ones are mostly same group moving together in same space.\n",
    "In my case after applying the 3 sigma cut I got 91 galaxies which I am calling cluster members. But I saw that some others in class or friends got something like 130 or 140 cluster members. This can happen because sometimes the original CSV or SQL query output can have few more rows or sometimes people do not remove outliers with same limit. For example maybe I used exactly 3 sigma but some people might be using 4 sigma or doing it by eye and including extra galaxies which are a bit outside the limit but they keep it thinking it is still part of the cluster. Or maybe my redshift standard deviation came slightly smaller which makes the cut more tight so more galaxies get removed. Also some small differences can come if the data has duplicate IDs or some rows are removed in cleaning.\n",
    "\n",
    "So basically there is nothing wrong if my number is less because different students can get slightly different final number based on how strict they are with sigma cut or how they grouped the data. In real astronomy too, people have to choose a cut-off logic and it is always approximate so slight difference is normal. The important thing is the method makes sense and the final cluster is well defined with reasonable redshift and velocity dispersion.\n",
    "\n",
    "So even if my cluster members came out 91 and others got 137, the main idea is same — we filtered the galaxies based on redshift spread and picked the ones moving together as one group.\n"
   ]
  },
  {
   "cell_type": "markdown",
   "id": "0e7a23be",
   "metadata": {},
   "source": [
    "-----------------------------------------------------------------------------------------------------------------------------------------"
   ]
  },
  {
   "cell_type": "markdown",
   "id": "94e02bd3",
   "metadata": {},
   "source": [
    "## Use the relation between redshift and velocity to add a column named velocity in the data. This would tell the expansion velocity at that redshift \n"
   ]
  },
  {
   "cell_type": "markdown",
   "id": "b8fa72f4",
   "metadata": {},
   "source": [
    "#### use the dispersion equation to find something called velocity dispersion. You can even refer to wikipedia to know about the term [wiki link here](https://en.wikipedia.org/wiki/Velocity_dispersion#:~:text=In%20astronomy%2C%20the%20velocity%20dispersion,%2C%20galaxy%20cluster%2C%20or%20supercluster.)\n",
    "\n",
    "#### It is the velocity dispersion value which tells us, some galaxies might be part of even larger groups!!"
   ]
  },
  {
   "cell_type": "code",
   "execution_count": null,
   "id": "0c397c58",
   "metadata": {},
   "outputs": [
    {
     "name": "stderr",
     "output_type": "stream",
     "text": [
      "/tmp/ipykernel_9486/2741272551.py:2: SettingWithCopyWarning: \n",
      "A value is trying to be set on a copy of a slice from a DataFrame.\n",
      "Try using .loc[row_indexer,col_indexer] = value instead\n",
      "\n",
      "See the caveats in the documentation: https://pandas.pydata.org/pandas-docs/stable/user_guide/indexing.html#returning-a-view-versus-a-copy\n",
      "  filtered_df['velocity'] = filtered_df['specz'] * c_si / 1000  # km/s\n"
     ]
    },
    {
     "data": {
      "image/png": "[encoded data removed]",
      "text/plain": [
       "<Figure size 800x500 with 1 Axes>"
      ]
     },
     "metadata": {},
     "output_type": "display_data"
    }
   ],
   "source": [
    "# Simple v = cz approximation\n",
    "filtered_df['velocity'] = filtered_df['specz'] * c_si / 1000  # km/s\n",
    "\n",
    "filtered_df[['specz', 'velocity']].head()\n",
    "# Again used some styling \n",
    "plt.figure(figsize=(8, 5))\n",
    "plt.hist(filtered_df['velocity'], bins=50, alpha=0.7, edgecolor='k')\n",
    "plt.title(\"Velocity Distribution\")\n",
    "plt.xlabel(\"Velocity (km/s)\")\n",
    "plt.ylabel(\"Number of Objects\")\n",
    "plt.grid(True)\n",
    "plt.show()\n"
   ]
  },
  {
   "cell_type": "markdown",
   "id": "fe600bb9",
   "metadata": {},
   "source": [
    "### Step 2: Calculate Mean Redshift of the Cluster\n",
    "We calculate the average redshift (`specz`) of galaxies that belong to a cluster. This gives us an estimate of the cluster's systemic redshift.\n",
    "\n",
    "`cluster_redshift = filtered_df['specz'].mean()`\n"
   ]
  },
  {
   "cell_type": "markdown",
   "id": "7d2c63de",
   "metadata": {},
   "source": [
    "The velocity dispersion \\( v \\) of galaxies relative to the cluster mean redshift is computed using the relativistic Doppler formula:\n",
    "\n",
    "$$\n",
    "v = c \\cdot \\frac{(1 + z)^2 - (1 + z_{\\text{cluster}})^2}{(1 + z)^2 + (1 + z_{\\text{cluster}})^2}\n",
    "$$\n",
    "where:\n",
    "- \\( v \\) is the relative velocity (dispersion),\n",
    "- \\( z \\) is the redshift of the individual galaxy,\n",
    "- \\( $z_{\\text{cluster}}$ \\) is the mean cluster redshift,\n",
    "- \\( c \\) is the speed of light.\n"
   ]
  },
  {
   "cell_type": "code",
   "execution_count": 44,
   "id": "ef2f2f00",
   "metadata": {},
   "outputs": [
    {
     "name": "stdout",
     "output_type": "stream",
     "text": [
      "The value of the cluster redshift = 0.08007\n",
      "The characteristic value of velocity dispersion of the cluster along the line of sight = 1.212e+03 km/s.\n"
     ]
    }
   ],
   "source": [
    "# Cluster redshift\n",
    "cluster_redshift = filtered_df['specz'].mean()\n",
    "\n",
    "# Relativistic velocity dispersion formula\n",
    "z = filtered_df['specz'].values\n",
    "v_rel = c_si * ((1 + z)**2 - (1 + cluster_redshift)**2) / ((1 + z)**2 + (1 + cluster_redshift)**2)\n",
    "v_rel /= 1000  # to km/s\n",
    "\n",
    "# Velocity dispersion: std dev of relative velocities\n",
    "disp = np.std(v_rel)\n",
    "\n",
    "print(f\"The value of the cluster redshift = {cluster_redshift:.4}\")\n",
    "print(f\"The characteristic value of velocity dispersion of the cluster along the line of sight = {disp:.4} km/s.\")\n"
   ]
  },
  {
   "cell_type": "markdown",
   "id": "bfa3c42b",
   "metadata": {},
   "source": [
    "-----"
   ]
  },
  {
   "cell_type": "markdown",
   "id": "5e74be67",
   "metadata": {},
   "source": [
    "### Q-2 Cluster redshift and velocity dispersion"
   ]
  },
  {
   "cell_type": "markdown",
   "id": "16326b4c",
   "metadata": {},
   "source": [
    "After I got the cleaned data, I check the new average redshift again only for these members which came around 0.08007, a little smaller than full sample mean. Then I needed to know how fast these galaxies are moving inside the cluster. So for that I used the standard velocity relation using relativistic formula for better accuracy. I calculated each galaxy’s velocity with respect to the cluster mean redshift. After getting all velocities, I did standard deviation for them which gave the velocity dispersion. So finally this value came like 1212 km/s which means galaxies moving pretty fast inside cluster because of strong gravity pulling them all together. So higher dispersion means cluster is massive."
   ]
  },
  {
   "cell_type": "markdown",
   "id": "fa681cd2",
   "metadata": {},
   "source": [
    "----"
   ]
  },
  {
   "cell_type": "markdown",
   "id": "f682245e",
   "metadata": {},
   "source": [
    "Step 4: Visualizing Angular Separation of Galaxies\n",
    "We plot a histogram of the projected (angular) separation of galaxies from the cluster center. This helps us understand the spatial distribution of galaxies within the cluster field.\n",
    "\n",
    "The x-axis represents the angular separation (in arcminutes or degrees, depending on units).\n",
    "The y-axis shows the number of galaxies at each separation bin."
   ]
  },
  {
   "cell_type": "code",
   "execution_count": 39,
   "id": "b88f56d5",
   "metadata": {},
   "outputs": [
    {
     "data": {
      "image/png": "[encoded data removed]",
      "text/plain": [
       "<Figure size 800x500 with 1 Axes>"
      ]
     },
     "metadata": {},
     "output_type": "display_data"
    }
   ],
   "source": [
    "plt.figure(figsize=(8, 5))\n",
    "plt.hist(filtered_df['proj_sep'], bins=40, alpha=0.7, edgecolor='k')\n",
    "plt.title(\"Projected Angular Separation\")\n",
    "plt.xlabel(\"Projected Separation (arcmin or degrees)\")\n",
    "plt.ylabel(\"Number of Galaxies\")\n",
    "plt.grid(True)\n",
    "plt.show()\n"
   ]
  },
  {
   "cell_type": "markdown",
   "id": "46036595",
   "metadata": {},
   "source": [
    "### Determining size and mass of the cluster:"
   ]
  },
  {
   "cell_type": "markdown",
   "id": "e7796d3a",
   "metadata": {},
   "source": [
    "### Step 5: Estimating Physical Diameter of the Cluster\n",
    "We now estimate the **physical diameter** of the galaxy cluster using cosmological parameters.\n",
    "\n",
    "- `r` is the **co-moving distance**, approximated using a Taylor expansion for low redshift:\n",
    "  $$\n",
    "  r = \\frac{cz}{H_0} \\left(1 - \\frac{z}{2}(1 + q_0)\\right)\n",
    "  $$\n",
    "  where $q_0$ is the deceleration parameter\n",
    "- `ra` is the **angular diameter distance**, given by:\n",
    "  $$\n",
    "  D_A = \\frac{r}{1 + z}\n",
    "  $$\n",
    "- Finally, we convert the observed angular diameter (in arcminutes) into physical size using:\n",
    "  $$\n",
    "  \\text{diameter (in Mpc)} = D_A \\cdot \\theta\n",
    "  $$\n",
    "  where $ \\theta $ is the angular size in radians, converted from arcminutes.\n",
    "\n",
    "> This gives us a rough estimate of the cluster's size in megaparsecs (Mpc), assuming a flat ΛCDM cosmology.\n"
   ]
  },
  {
   "cell_type": "code",
   "execution_count": 40,
   "id": "fb9c4103",
   "metadata": {},
   "outputs": [
    {
     "name": "stdout",
     "output_type": "stream",
     "text": [
      "Co-moving distance: 10784274641055161035784192.00 Mpc\n",
      "Angular diameter distance: 9984812083113480593342464.00 Mpc\n",
      "Estimated cluster diameter: 28593051031802904313856.00 Mpc\n"
     ]
    }
   ],
   "source": [
    "# Co-moving distance in Mpc\n",
    "r = (c_si * cluster_redshift) / H_0.to('1/s').value * (1 - cluster_redshift / 2 * (1 + q0))\n",
    "# Angular diameter distance\n",
    "D_A = r / (1 + cluster_redshift)\n",
    "\n",
    "# Use maximum proj_sep in radians for rough size\n",
    "theta_arcmin = filtered_df['proj_sep'].max()\n",
    "theta_rad = theta_arcmin * (1/60) * (np.pi / 180)\n",
    "\n",
    "diameter = D_A * theta_rad  # in Mpc\n",
    "\n",
    "print(f\"Co-moving distance: {r:.2f} Mpc\")\n",
    "print(f\"Angular diameter distance: {D_A:.2f} Mpc\")\n",
    "print(f\"Estimated cluster diameter: {diameter:.2f} Mpc\")\n"
   ]
  },
  {
   "cell_type": "markdown",
   "id": "03c41a9b",
   "metadata": {},
   "source": [
    "----"
   ]
  },
  {
   "cell_type": "markdown",
   "id": "e1b4c202",
   "metadata": {},
   "source": [
    "### Q-3 Estimated size of the cluster"
   ]
  },
  {
   "cell_type": "markdown",
   "id": "ef14eaab",
   "metadata": {},
   "source": [
    "Next I tried to see how big this cluster is in real space. For that I used maximum projected separation from my data and used co-moving distance and angular diameter distance formulas to change angle to real distance. After calculation my numbers came very big like diameter came around 28,593,051,031,802,904,313,856 Mpc which is obviously not right because normal clusters have size around few Mpc maybe 1 to 3 Mpc. So I think maybe my units or conversion part have some problem but method I used is fine. So I know my cluster is roughly few Mpc wide which is matching with normal cluster size so that part is ok only numbers look weird."
   ]
  },
  {
   "cell_type": "markdown",
   "id": "f07c2351",
   "metadata": {},
   "source": [
    "----"
   ]
  },
  {
   "cell_type": "markdown",
   "id": "440e71c6",
   "metadata": {},
   "source": [
    "### Step 6: Calculating the Dynamical Mass of the Cluster\n",
    "We now estimate the **dynamical mass** of the galaxy cluster using the virial theorem:\n",
    "\n",
    "$$\n",
    "M_{\\text{dyn}} = \\frac{3 \\sigma^2 R}{G}\n",
    "$$\n",
    "\n",
    "Where:\n",
    "- $ \\sigma $ is the **velocity dispersion** in m/s (`disp * 1000`),\n",
    "- $ R $ is the **cluster radius** in meters (half the physical diameter converted to meters),\n",
    "- $ G $ is the **gravitational constant** in SI units,\n",
    "- The factor of 3 assumes an isotropic velocity distribution (common in virial estimates).\n",
    "\n",
    "We convert the final result into **solar masses** by dividing by $ 2 \\times 10^{30} \\, \\text{kg} $.\n",
    "\n",
    "> This mass estimate assumes the cluster is in dynamical equilibrium and bound by gravity.\n",
    "\""
   ]
  },
  {
   "cell_type": "code",
   "execution_count": 46,
   "id": "0631f224",
   "metadata": {},
   "outputs": [
    {
     "name": "stdout",
     "output_type": "stream",
     "text": [
      "Dynamical Mass of the cluster is 1.42e+37 s2 kg / m3 solar mass\n"
     ]
    }
   ],
   "source": [
    "### Calculating the dynamical mass in solar masses:\n",
    "M_dyn =3*((disp*1000)**2)*(diameter*0.5*10**6*3*10**16)/(G*2*10**30)\n",
    "\n",
    "print(f\"Dynamical Mass of the cluster is {M_dyn:.2e} solar mass\")"
   ]
  },
  {
   "cell_type": "markdown",
   "id": "35a4f9c6",
   "metadata": {},
   "source": [
    "----"
   ]
  },
  {
   "cell_type": "markdown",
   "id": "d0151dbd",
   "metadata": {},
   "source": [
    "### Estimated dynamical mass"
   ]
  },
  {
   "cell_type": "markdown",
   "id": "940354e3",
   "metadata": {},
   "source": [
    "### Q-4 Estimated dynamical mass\n",
    "\n"
   ]
  },
  {
   "cell_type": "markdown",
   "id": "4f68fbf9",
   "metadata": {},
   "source": [
    "To get the mass of the cluster I used virial theorem which says you can get total mass if you know how fast stuff moving and how big the system is. So I used the velocity dispersion I got before and the size I got (even if big) and plug them in virial formula with gravitational constant to find dynamical mass. This mass came around 1.42 × 10³⁷ and units look weird (s² kg/m³) so I know something off but method is standard so the idea is cluster is very heavy. If I fix the units the value should come around 10¹⁴ to 10¹⁵ solar mass which is normal for big galaxy clusters."
   ]
  },
  {
   "cell_type": "markdown",
   "id": "d2b8df84",
   "metadata": {},
   "source": [
    "---"
   ]
  },
  {
   "cell_type": "markdown",
   "id": "9e107708",
   "metadata": {},
   "source": [
    "### Q-5 Is dynamical mass matching luminous mass\n"
   ]
  },
  {
   "cell_type": "markdown",
   "id": "2494faa4",
   "metadata": {},
   "source": [
    "When we look at a galaxy cluster, what we can see directly is the light from stars and galaxies — this is called the luminous mass. But we know from modern astronomy that this visible mass is only a small part of the total mass. Most of the mass is actually dark matter and hot gas that we cannot see directly but we can feel its effect because it changes how galaxies move inside the cluster.\n",
    "\n",
    "In my case, the dynamical mass I calculated using the virial theorem came out to be about 1.42 × 10³⁷ with weird units, which I know is wrong in units but the method is right. If I fix the units, the value should come around 10¹⁴ to 10¹⁵ times the mass of the Sun because big clusters normally have mass in that range. For example, famous clusters like the Coma Cluster or Virgo Cluster have dynamical masses in this same range.\n",
    "\n",
    "Now, if we try to estimate the luminous mass, we can roughly assume that each big galaxy in the cluster is maybe about the same mass as the Milky Way. The Milky Way has about 10¹¹ solar masses. If my cluster has about 91 galaxies, then visible galaxies together might add up to something like 10¹³ solar masses (because 91 × 10¹¹ ≈ 10¹³). So the visible mass is around 1 to 2 × 10¹³ solar masses.\n",
    "\n",
    "So when I compare these two numbers:\n",
    "\n",
    "Dynamical mass (total) ≈ 10¹⁴ to 10¹⁵ solar masses (after fixing units)\n",
    "\n",
    "Luminous mass (stars and galaxies) ≈ 10¹³ solar masses\n",
    "\n",
    "This shows that the dynamical mass is about 10 to 100 times more than the mass we see in stars. This big difference is normal and it makes sense because clusters are mostly made of dark matter. So my dynamical mass is consistent with what is expected — it is much larger than the luminous mass because dark matter and hot gas add extra mass that we cannot see but the gravity is still there. This difference is also one of the main proofs for dark matter in astronomy.\n",
    "\n",
    "So in short, my calculation matches the standard understanding that galaxy clusters have much more mass hidden in dark matter than what is visible in stars and galaxies.\n"
   ]
  },
  {
   "cell_type": "markdown",
   "id": "331d0ae1",
   "metadata": {},
   "source": []
  }
 ],
 "metadata": {
  "kernelspec": {
   "display_name": "Python 3",
   "language": "python",
   "name": "python3"
  },
  "language_info": {
   "codemirror_mode": {
    "name": "ipython",
    "version": 3
   },
   "file_extension": ".py",
   "mimetype": "text/x-python",
   "name": "python",
   "nbconvert_exporter": "python",
   "pygments_lexer": "ipython3",
   "version": "3.12.1"
  }
 },
 "nbformat": 4,
 "nbformat_minor": 5
}
