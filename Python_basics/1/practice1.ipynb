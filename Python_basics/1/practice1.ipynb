{
 "cells": [
  {
   "cell_type": "markdown",
   "id": "c8f3e180",
   "metadata": {},
   "source": [
    "P1. print long quote \n"
   ]
  },
  {
   "cell_type": "code",
   "execution_count": null,
   "id": "95e9b02f",
   "metadata": {},
   "outputs": [],
   "source": [
    "print('''\n",
    "      gyubrh\n",
    "      ghbfiguhi\n",
    "      uigergjsent''')"
   ]
  },
  {
   "cell_type": "markdown",
   "id": "36ca0ae4",
   "metadata": {},
   "source": [
    "pyttsx3 -- text to speech convertor in python\n",
    "use it "
   ]
  },
  {
   "cell_type": "code",
   "execution_count": null,
   "id": "5b9cfa32",
   "metadata": {},
   "outputs": [],
   "source": [
    "import pyttsx3 as pt\n",
    "engine = pt.init()\n",
    "engine.say(\"hello world\")\n",
    "engine.runandwait()\n",
    "## This is not working here idk why"
   ]
  }
 ],
 "metadata": {
  "kernelspec": {
   "display_name": "Python 3",
   "language": "python",
   "name": "python3"
  },
  "language_info": {
   "codemirror_mode": {
    "name": "ipython",
    "version": 3
   },
   "file_extension": ".py",
   "mimetype": "text/x-python",
   "name": "python",
   "nbconvert_exporter": "python",
   "pygments_lexer": "ipython3",
   "version": "3.12.1"
  }
 },
 "nbformat": 4,
 "nbformat_minor": 5
}
