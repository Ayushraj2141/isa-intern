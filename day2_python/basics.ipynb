{
 "cells": [
  {
   "cell_type": "code",
   "execution_count": 1,
   "id": "c234a238",
   "metadata": {},
   "outputs": [],
   "source": [
    "import numpy as np"
   ]
  },
  {
   "cell_type": "code",
   "execution_count": 2,
   "metadata": {},
   "outputs": [],
   "source": [
    "x_list = [1,2,3,4]\n",
    "x = np.array(x_list)"
   ]
  },
  {
   "cell_type": "code",
   "execution_count": 5,
   "id": "e714837b",
   "metadata": {},
   "outputs": [],
   "source": [
    "y_list = [8,9,11,4]\n",
    "y = np.array(y_list)"
   ]
  },
  {
   "cell_type": "markdown",
   "id": "80ae61eb",
   "metadata": {},
   "source": [
    "Note that this does'nt concanate but added just like vector addition"
   ]
  },
  {
   "cell_type": "code",
   "execution_count": 6,
   "id": "6050a580",
   "metadata": {},
   "outputs": [
    {
     "data": {
      "text/plain": [
       "array([ 9, 11, 14,  8])"
      ]
     },
     "execution_count": 6,
     "metadata": {},
     "output_type": "execute_result"
    }
   ],
   "source": [
    "x+y"
   ]
  },
  {
   "cell_type": "code",
   "execution_count": 7,
   "id": "a3d97fa7",
   "metadata": {},
   "outputs": [],
   "source": [
    "## we can use it as a matrix "
   ]
  },
  {
   "cell_type": "code",
   "execution_count": 11,
   "id": "e3e63d5a",
   "metadata": {},
   "outputs": [
    {
     "data": {
      "text/plain": [
       "np.int64(75)"
      ]
     },
     "execution_count": 11,
     "metadata": {},
     "output_type": "execute_result"
    }
   ],
   "source": [
    "x.dot(y)"
   ]
  },
  {
   "cell_type": "code",
   "execution_count": 12,
   "id": "b777a73c",
   "metadata": {},
   "outputs": [],
   "source": [
    "## There are many functions related to matrix and vectors using numpy \n",
    "## numpy is basically a array of numbers "
   ]
  },
  {
   "cell_type": "code",
   "execution_count": 13,
   "id": "a3036b4d",
   "metadata": {},
   "outputs": [],
   "source": [
    "## Next is loop and boolean -- thats simple not to much to worry about"
   ]
  },
  {
   "cell_type": "code",
   "execution_count": 18,
   "id": "9f1548f0",
   "metadata": {},
   "outputs": [
    {
     "name": "stdout",
     "output_type": "stream",
     "text": [
      "0 is even \n",
      "20 is even \n",
      "odd\n"
     ]
    }
   ],
   "source": [
    "## To print even number bt 0 and 20\n",
    "for i in [0,20,1] :\n",
    "    if i%2==0:\n",
    "        print(i,\"is even \")\n",
    "    else:\n",
    "        print(\"odd\")\n",
    "      "
   ]
  },
  {
   "cell_type": "code",
   "execution_count": null,
   "id": "462d4f14",
   "metadata": {},
   "outputs": [],
   "source": []
  }
 ],
 "metadata": {
  "kernelspec": {
   "display_name": "Python 3",
   "language": "python",
   "name": "python3"
  },
  "language_info": {
   "codemirror_mode": {
    "name": "ipython",
    "version": 3
   },
   "file_extension": ".py",
   "mimetype": "text/x-python",
   "name": "python",
   "nbconvert_exporter": "python",
   "pygments_lexer": "ipython3",
   "version": "3.12.1"
  }
 },
 "nbformat": 4,
 "nbformat_minor": 5
}
