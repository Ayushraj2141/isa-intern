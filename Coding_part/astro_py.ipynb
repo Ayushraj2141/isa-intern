{
 "cells": [
  {
   "cell_type": "code",
   "execution_count": 1,
   "id": "e13bf708",
   "metadata": {},
   "outputs": [],
   "source": [
    "import astropy"
   ]
  },
  {
   "cell_type": "code",
   "execution_count": 4,
   "id": "8bb95b2e",
   "metadata": {},
   "outputs": [
    {
     "name": "stdout",
     "output_type": "stream",
     "text": [
      "speed of light is : 299792458.0 m / s\n",
      "gravitational constant is : 6.6743e-11 m3 / (kg s2)\n",
      "plancks constant is : 6.62607015e-34 J s\n"
     ]
    }
   ],
   "source": [
    "## To import constants \n",
    "from astropy import constants as const\n",
    "## Fundamental constants\n",
    "print(f\"speed of light is : {const.c}\")\n",
    "print(f\"gravitational constant is : {const.G}\")\n",
    "print(f\"plancks constant is : {const.h}\")"
   ]
  },
  {
   "cell_type": "code",
   "execution_count": 5,
   "id": "4ffbdae7",
   "metadata": {},
   "outputs": [
    {
     "name": "stdout",
     "output_type": "stream",
     "text": [
      "solar mass is : 1.988409870698051e+30 kg\n",
      "earth mass is : 5.972167867791379e+24 kg\n",
      "parsec value is : 3.085677581491367e+16 m\n"
     ]
    }
   ],
   "source": [
    "##Astronomical constants \n",
    "print(f\"solar mass is : {const.M_sun}\")\n",
    "print(f\"earth mass is : {const.M_earth}\")\n",
    "print(f\"parsec value is : {const.pc}\")"
   ]
  },
  {
   "cell_type": "markdown",
   "id": "9b2867d5",
   "metadata": {},
   "source": [
    "## Note that we not only get the values but units as well"
   ]
  },
  {
   "cell_type": "code",
   "execution_count": 8,
   "id": "c91567b2",
   "metadata": {},
   "outputs": [],
   "source": [
    "##We could also easily convert units into one form to another as \n",
    "from astropy import units as u "
   ]
  },
  {
   "cell_type": "code",
   "execution_count": 13,
   "id": "037bb36d",
   "metadata": {},
   "outputs": [
    {
     "name": "stdout",
     "output_type": "stream",
     "text": [
      "10 m into unit of parsec is : 3.2407792894443647e-16 pc\n"
     ]
    }
   ],
   "source": [
    "print(f\"10 m into unit of parsec is : {(10*u.m).to(u.pc)}\")"
   ]
  },
  {
   "cell_type": "markdown",
   "id": "bc9dd51e",
   "metadata": {},
   "source": [
    "## using curly braces {} inside a string without an f prefix, so Python treats it as a normal string instead of evaluating the expression inside.\n",
    "## f\"...\": This is an f-string, which allows expressions inside {} to be evaluated."
   ]
  },
  {
   "cell_type": "code",
   "execution_count": 8,
   "id": "8b5c1cd7",
   "metadata": {},
   "outputs": [
    {
     "name": "stdout",
     "output_type": "stream",
     "text": [
      "Conversion of astronomical unit in other units are as foloows \n",
      "Parsec :  0.3066 pc\n",
      "Metres:  9.46e+15 m\n",
      "Astronomical Unit :  6.3241e+04 AU\n",
      "Kilometers :  9460730472580.80078125 km\n"
     ]
    }
   ],
   "source": [
    "## conversion of light year into various other units\n",
    "from astropy import units as u\n",
    "ly = 1 * u.lyr\n",
    "print(\"Conversion of astronomical unit in other units are as foloows \")\n",
    "print(f\"Parsec : {ly.to(u.pc) : .4f}\") ## .4f -- upto 4 decimal point digits\n",
    "print(f\"Metres: {ly.to(u.m) : .2e}\") ## .2e -- 2 decimal point tk and uske baad wala 10 ki power mai aajayegaa \n",
    "print(f\"Astronomical Unit : {ly.to(u.au) : .4e}\") ## .4e -- 4 decimal digits and uske baad wala part power of 10 mai \n",
    "print(f\"Kilometers : {ly.to(u.km) : .8f}\") ## -- .8f matlab jo value hai woh pura and decimal k baad 8 digits tk accurate "
   ]
  },
  {
   "cell_type": "markdown",
   "id": "b9a6d7d7",
   "metadata": {},
   "source": [
    " RA and Dec in Astronomy"
   ]
  },
  {
   "cell_type": "code",
   "execution_count": null,
   "id": "a7a32759",
   "metadata": {},
   "outputs": [],
   "source": []
  }
 ],
 "metadata": {
  "kernelspec": {
   "display_name": "Python 3",
   "language": "python",
   "name": "python3"
  },
  "language_info": {
   "codemirror_mode": {
    "name": "ipython",
    "version": 3
   },
   "file_extension": ".py",
   "mimetype": "text/x-python",
   "name": "python",
   "nbconvert_exporter": "python",
   "pygments_lexer": "ipython3",
   "version": "3.12.1"
  }
 },
 "nbformat": 4,
 "nbformat_minor": 5
}
